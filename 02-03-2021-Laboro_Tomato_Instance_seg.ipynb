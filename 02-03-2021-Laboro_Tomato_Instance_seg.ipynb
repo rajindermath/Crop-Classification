{
  "nbformat": 4,
  "nbformat_minor": 0,
  "metadata": {
    "colab": {
      "name": "28-02-2021-fruit-instance-seg.ipynb",
      "provenance": [],
      "collapsed_sections": [],
      "authorship_tag": "ABX9TyNj7uBzcg42MD4NgnICjYP0",
      "include_colab_link": true
    },
    "kernelspec": {
      "name": "python3",
      "display_name": "Python 3"
    },
    "accelerator": "GPU"
  },
  "cells": [
    {
      "cell_type": "markdown",
      "metadata": {
        "id": "view-in-github",
        "colab_type": "text"
      },
      "source": [
        "<a href=\"https://colab.research.google.com/github/rajindermath/Crop-Classification/blob/master/02-03-2021-Laboro_Tomato_Instance_seg.ipynb\" target=\"_parent\"><img src=\"https://colab.research.google.com/assets/colab-badge.svg\" alt=\"Open In Colab\"/></a>"
      ]
    },
    {
      "cell_type": "code",
      "metadata": {
        "id": "_brAduVdJfat",
        "colab": {
          "base_uri": "https://localhost:8080/"
        },
        "outputId": "1a104e63-8484-477d-c831-f551f2f6ee5d"
      },
      "source": [
        "from google.colab import drive\n",
        "drive.mount('/content/drive')"
      ],
      "execution_count": null,
      "outputs": [
        {
          "output_type": "stream",
          "text": [
            "Mounted at /content/drive\n"
          ],
          "name": "stdout"
        }
      ]
    },
    {
      "cell_type": "code",
      "metadata": {
        "colab": {
          "base_uri": "https://localhost:8080/"
        },
        "id": "TXMgWHUdJiO0",
        "outputId": "99de12c2-1971-4b32-bfcc-7d53e91f8f5a"
      },
      "source": [
        "#%cd drive/MyDrive/28-02-2021-hazal\n",
        "#%cd /content/drive/MyDrive/Caterpillers\n",
        "%cd /content/drive/MyDrive/laborotemp\n"
      ],
      "execution_count": null,
      "outputs": [
        {
          "output_type": "stream",
          "text": [
            "/content/drive/MyDrive/laborotemp\n"
          ],
          "name": "stdout"
        }
      ]
    },
    {
      "cell_type": "code",
      "metadata": {
        "id": "w1Xm2mnKi0nK"
      },
      "source": [
        "!pip install -U torch torchvision\n",
        "!pip install git+https://github.com/facebookresearch/fvcore.git\n",
        "import torch, torchvision\n",
        "torch.__version__"
      ],
      "execution_count": null,
      "outputs": []
    },
    {
      "cell_type": "code",
      "metadata": {
        "id": "ISHW_YeEjh7s"
      },
      "source": [
        "!git clone https://github.com/facebookresearch/detectron2 detectron2_repo\n",
        "!pip install -e detectron2_repo"
      ],
      "execution_count": null,
      "outputs": []
    },
    {
      "cell_type": "code",
      "metadata": {
        "id": "A6ajnSyHoJmQ"
      },
      "source": [
        "# You may need to restart your runtime prior to this, to let your installation take effect\n",
        "# Some basic setup\n",
        "# Setup detectron2 logger\n",
        "import detectron2\n",
        "from detectron2.utils.logger import setup_logger\n",
        "setup_logger()\n",
        "\n",
        "# import some common libraries\n",
        "import matplotlib.pyplot as plt\n",
        "import numpy as np\n",
        "import cv2\n",
        "from google.colab.patches import cv2_imshow\n",
        "\n",
        "# import some common detectron2 utilities\n",
        "from detectron2.engine import DefaultPredictor\n",
        "from detectron2.config import get_cfg\n",
        "from detectron2.utils.visualizer import Visualizer\n",
        "from detectron2.data import MetadataCatalog, DatasetCatalog"
      ],
      "execution_count": null,
      "outputs": []
    },
    {
      "cell_type": "code",
      "metadata": {
        "colab": {
          "base_uri": "https://localhost:8080/"
        },
        "id": "_6CNApEgJ2-u",
        "outputId": "96f39b5d-b1b1-49e0-e043-78db887f59d7"
      },
      "source": [
        "#%cd /content/drive/MyDrive/28-02-2021-hazal\n",
        "#%cd /content/drive/MyDrive/Caterpillers\n",
        "%cd /content/drive/MyDrive/laborotemp\n",
        "\n"
      ],
      "execution_count": null,
      "outputs": [
        {
          "output_type": "stream",
          "text": [
            "/content/drive/MyDrive/laborotemp\n"
          ],
          "name": "stdout"
        }
      ]
    },
    {
      "cell_type": "code",
      "metadata": {
        "id": "Q9X6XE1coQW7"
      },
      "source": [
        "from detectron2.data.datasets import register_coco_instances\n",
        "#register_coco_instances(\"fruits_nuts\", {}, \"./data/trainval.json\", \"./data/images\")\n",
        "#register_coco_instances(\"fruits_nuts\", {}, \"./train.json\", \"./train\")\n",
        "register_coco_instances(\"laboro_train\", {}, \"./laboro_big/train.json\", \"./laboro_big/train\")\n",
        "register_coco_instances(\"laboro_test\", {}, \"./laboro_big/test.json\", \"./laboro_big/test\")\n"
      ],
      "execution_count": null,
      "outputs": []
    },
    {
      "cell_type": "code",
      "metadata": {
        "colab": {
          "base_uri": "https://localhost:8080/"
        },
        "id": "rd-gc6-WoSxo",
        "outputId": "5cae6fbe-7c12-4b2c-bfaf-02fc641c234b"
      },
      "source": [
        "#fruits_nuts_metadata = MetadataCatalog.get(\"fruits_nuts\")\n",
        "#dataset_dicts = DatasetCatalog.get(\"fruits_nuts\")\n",
        "\n",
        "fruits_nuts_metadata = MetadataCatalog.get(\"laboro_train\")\n",
        "dataset_dicts = DatasetCatalog.get(\"laboro_train\")"
      ],
      "execution_count": null,
      "outputs": [
        {
          "output_type": "stream",
          "text": [
            "\u001b[32m[03/02 09:02:39 d2.data.datasets.coco]: \u001b[0mLoaded 353 images in COCO format from ./laboro_big/train.json\n"
          ],
          "name": "stdout"
        }
      ]
    },
    {
      "cell_type": "code",
      "metadata": {
        "id": "2yG0gTZGLHpu"
      },
      "source": [
        "# EXTRA\n",
        "\n",
        "#Implementing my own Trainer Module here to use the COCO validation evaluation during training\n",
        "# TODO: add data custom augmentation \n",
        "from detectron2.engine import DefaultTrainer\n",
        "class CocoTrainer(DefaultTrainer):\n",
        "\n",
        "  @classmethod\n",
        "  def build_evaluator(cls, cfg, dataset_name, output_folder=None):\n",
        "\n",
        "    if output_folder is None:\n",
        "        os.makedirs(\"coco_eval\", exist_ok=True)\n",
        "        output_folder = \"coco_eval\"\n",
        "\n",
        "    return COCOEvaluator(dataset_name, cfg, False, output_folder)"
      ],
      "execution_count": null,
      "outputs": []
    },
    {
      "cell_type": "code",
      "metadata": {
        "id": "e5WSJnKZoS2D"
      },
      "source": [
        "import random\n",
        "\n",
        "for d in random.sample(dataset_dicts, 10):\n",
        "    img = cv2.imread(d[\"file_name\"])\n",
        "    visualizer = Visualizer(img[:, :, ::-1], metadata=fruits_nuts_metadata, scale=0.2)\n",
        "    vis = visualizer.draw_dataset_dict(d)\n",
        "    cv2_imshow(vis.get_image()[:, :, ::-1])"
      ],
      "execution_count": null,
      "outputs": []
    },
    {
      "cell_type": "code",
      "metadata": {
        "id": "BXBw2uuqJxwW"
      },
      "source": [
        "# To find out inconsistent CUDA versions, if there is not \"failed\" word in this output then things are fine.\n",
        "!python -m detectron2.utils.collect_env"
      ],
      "execution_count": null,
      "outputs": []
    },
    {
      "cell_type": "code",
      "metadata": {
        "id": "IwxoUjl2oS5h"
      },
      "source": [
        "from detectron2.engine import DefaultTrainer\n",
        "from detectron2.config import get_cfg\n",
        "import os\n",
        "from detectron2.evaluation import COCOEvaluator, inference_on_dataset\n",
        "\n",
        "cfg = get_cfg()\n",
        "cfg.merge_from_file(\"./detectron2_repo/configs/COCO-InstanceSegmentation/mask_rcnn_R_50_FPN_3x.yaml\")\n",
        "cfg.DATASETS.TRAIN = (\"laboro_train\",)\n",
        "#cfg.DATASETS.TEST = (\"laboro_test\",)   # no metrics implemented for this dataset\n",
        "cfg.DATASETS.TEST = ()   # no metrics implemented for this dataset\n",
        "cfg.DATALOADER.NUM_WORKERS = 2\n",
        "cfg.MODEL.WEIGHTS = \"detectron2://COCO-InstanceSegmentation/mask_rcnn_R_50_FPN_3x/137849600/model_final_f10217.pkl\"  # initialize from model zoo\n",
        "cfg.SOLVER.IMS_PER_BATCH = 2\n",
        "cfg.SOLVER.BASE_LR = 0.00025\n",
        "cfg.SOLVER.MAX_ITER = 3000    # 300 iterations seems good enough, but you can certainly train longer\n",
        "cfg.MODEL.ROI_HEADS.BATCH_SIZE_PER_IMAGE = 128   # faster, and good enough for this toy dataset\n",
        "cfg.MODEL.ROI_HEADS.NUM_CLASSES = 3  # 3 classes (data, fig, hazelnut)\n",
        "\n",
        "os.makedirs(cfg.OUTPUT_DIR, exist_ok=True)\n",
        "#trainer = DefaultTrainer(cfg)\n",
        "trainer = CocoTrainer(cfg) \n",
        "trainer.resume_or_load(resume=False)\n",
        "trainer.train()\n",
        "\n",
        "\n"
      ],
      "execution_count": null,
      "outputs": []
    },
    {
      "cell_type": "code",
      "metadata": {
        "id": "phas_ao_m0il"
      },
      "source": [
        "# Look at training curves in tensorboard:\n",
        "%load_ext tensorboard\n",
        "%tensorboard --logdir output"
      ],
      "execution_count": null,
      "outputs": []
    },
    {
      "cell_type": "code",
      "metadata": {
        "id": "-0hQsf10L87H"
      },
      "source": [
        "#from detectron2.data import build_detection_test_loader\n",
        "#evaluator = COCOEvaluator(\"laboro_test\", cfg, False, output_dir=\"./output/\")\n",
        "#val_loader = build_detection_test_loader(cfg, \"laboro_test\")\n",
        "#print(inference_on_dataset(trainer.model, val_loader, evaluator))\n",
        "\n",
        "\n",
        "#####\n",
        "from detectron2.evaluation import COCOEvaluator, inference_on_dataset, LVISEvaluator\n",
        "from detectron2.data import build_detection_test_loader\n",
        "\n",
        "evaluator = COCOEvaluator(\"laboro_test\", cfg, False, output_dir=\"./output/\")\n",
        "val_loader = build_detection_test_loader(cfg, \"laboro_test\")\n",
        "inference_on_dataset(trainer.model, val_loader, evaluator)\n",
        "# another equivalent way is to use trainer.test\n",
        "\n"
      ],
      "execution_count": null,
      "outputs": []
    },
    {
      "cell_type": "code",
      "metadata": {
        "id": "wKiLOOrPoS8y"
      },
      "source": [
        "cfg.MODEL.WEIGHTS = os.path.join(cfg.OUTPUT_DIR, \"model_final.pth\")\n",
        "cfg.MODEL.ROI_HEADS.SCORE_THRESH_TEST = 0.5   # set the testing threshold for this model\n",
        "cfg.DATASETS.TEST = (\"laboro_test\", )\n",
        "predictor = DefaultPredictor(cfg)"
      ],
      "execution_count": null,
      "outputs": []
    },
    {
      "cell_type": "code",
      "metadata": {
        "colab": {
          "base_uri": "https://localhost:8080/"
        },
        "id": "1nokVe0CMYW-",
        "outputId": "de464123-3ad1-4752-f42e-0245df3ef1eb"
      },
      "source": [
        "val_dataset_dicts = DatasetCatalog.get(\"laboro_test\")\n",
        "val_metadata_dicts = MetadataCatalog.get(\"laboro_test\")"
      ],
      "execution_count": null,
      "outputs": [
        {
          "output_type": "stream",
          "text": [
            "\u001b[32m[03/02 10:50:28 d2.data.datasets.coco]: \u001b[0mLoaded 89 images in COCO format from ./laboro_big/test.json\n"
          ],
          "name": "stdout"
        }
      ]
    },
    {
      "cell_type": "code",
      "metadata": {
        "id": "HFXHlleVoS_o"
      },
      "source": [
        "from detectron2.utils.visualizer import ColorMode\n",
        "\n",
        "for d in random.sample(dataset_dicts, 30):    \n",
        "    im = cv2.imread(d[\"file_name\"])\n",
        "    outputs = predictor(im)\n",
        "    v = Visualizer(im[:, :, ::-1],\n",
        "                   metadata=val_metadata_dicts, \n",
        "                   scale=0.2, \n",
        "                   instance_mode=ColorMode.IMAGE_BW   # remove the colors of unsegmented pixels\n",
        "    )\n",
        "    v = v.draw_instance_predictions(outputs[\"instances\"].to(\"cpu\"))\n",
        "    cv2_imshow(v.get_image()[:, :, ::-1])"
      ],
      "execution_count": null,
      "outputs": []
    },
    {
      "cell_type": "code",
      "metadata": {
        "id": "8YPJRylGosyG"
      },
      "source": [
        "fruits_nuts_metadata"
      ],
      "execution_count": null,
      "outputs": []
    },
    {
      "cell_type": "code",
      "metadata": {
        "colab": {
          "base_uri": "https://localhost:8080/"
        },
        "id": "MG9oGLODowXK",
        "outputId": "8d1aaa99-32f7-4001-df93-818d01d2a773"
      },
      "source": [
        "import time\n",
        "times = []\n",
        "for i in range(20):\n",
        "    start_time = time.time()\n",
        "    outputs = predictor(im)\n",
        "    delta = time.time() - start_time\n",
        "    times.append(delta)\n",
        "mean_delta = np.array(times).mean()\n",
        "fps = 1 / mean_delta\n",
        "print(\"Average(sec):{:.2f},fps:{:.2f}\".format(mean_delta, fps))"
      ],
      "execution_count": null,
      "outputs": [
        {
          "output_type": "stream",
          "text": [
            "Average(sec):0.19,fps:5.30\n"
          ],
          "name": "stdout"
        }
      ]
    },
    {
      "cell_type": "code",
      "metadata": {
        "id": "WXny-SVMMrLX"
      },
      "source": [
        "import io\n",
        "import imageio\n",
        "fig, ax = plt.subplots(2, 2, figsize =(20,15))\n",
        "#plt.axis('off')\n",
        "indices=[ax[0][0],ax[1][0],ax[0][1],ax[1][1] ]\n",
        "i=-1\n",
        "for d in random.sample(val_dataset_dicts, 4):\n",
        "    i=i+1    \n",
        "    im = imageio.imread(d[\"file_name\"])\n",
        "    outputs = predictor(im)\n",
        "    #plt.axis('off')\n",
        "    v = Visualizer(im[:, :, ::-1],\n",
        "                   metadata=val_metadata_dicts, \n",
        "                   scale=0.2, \n",
        "                   instance_mode=ColorMode.IMAGE_BW   # remove the colors of unsegmented pixels. This option is only available for segmentation models\n",
        "    )\n",
        "    out = v.draw_instance_predictions(outputs[\"instances\"].to(\"cpu\"))\n",
        "    indices[i].grid(False)\n",
        "    indices[i].axis(False)\n",
        "    indices[i].imshow(out.get_image()[:, :, ::-1])\n",
        "    #plt.axis('off')"
      ],
      "execution_count": null,
      "outputs": []
    }
  ]
}